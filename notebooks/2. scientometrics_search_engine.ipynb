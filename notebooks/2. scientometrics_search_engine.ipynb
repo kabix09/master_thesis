{
 "cells": [
  {
   "cell_type": "code",
   "execution_count": null,
   "id": "f01a8400-5267-4dd5-a990-dee8d8f666a1",
   "metadata": {},
   "outputs": [],
   "source": [
    "import pandas as pd\n",
    "import numpy as np\n",
    "import os\n",
    "from tqdm import tqdm\n",
    "from sentence_transformers import SentenceTransformer, util\n",
    "import torch\n"
   ]
  },
  {
   "cell_type": "markdown",
   "id": "2a215b64-f49e-4977-ae7c-0607c057c5e0",
   "metadata": {},
   "source": [
    "## Load data"
   ]
  },
  {
   "cell_type": "code",
   "execution_count": 7,
   "id": "51621b63-98bc-49a3-981e-411bded57aba",
   "metadata": {},
   "outputs": [],
   "source": [
    "df = pd.read_csv(\"..//data//interim//articles_with_score_df.csv\", usecols=['title'])"
   ]
  },
  {
   "cell_type": "markdown",
   "id": "9b40a88f-e4bf-4a18-97a6-ef0862782d75",
   "metadata": {},
   "source": [
    "### Prepare embedding"
   ]
  },
  {
   "cell_type": "code",
   "execution_count": null,
   "id": "4846bdfc",
   "metadata": {},
   "outputs": [],
   "source": [
    "if torch.cuda.is_available():\n",
    "    print(\"CUDA is available: \", torch.cuda.is_available())   \n",
    "    print(\"Number of CUDA devices: \", torch.cuda.device_count())\n",
    "    print(\"CUDA current device: \", torch.cuda.current_device())\n",
    "    print(\"CUDA device name: \", torch.cuda.get_device_name(0))\n",
    "\n",
    "    model = SentenceTransformer(\"all-MiniLM-L6-v2\", device='cuda')\n",
    "else:\n",
    "    model = SentenceTransformer(\"all-MiniLM-L6-v2\", device='cpu')"
   ]
  },
  {
   "cell_type": "code",
   "execution_count": null,
   "id": "699ae324",
   "metadata": {},
   "outputs": [],
   "source": [
    "titles = df['title'].tolist()\n",
    "\n",
    "titles_embeddings = []\n",
    "\n",
    "for title in tqdm(titles):\n",
    "    embedding = model.encode([title])\n",
    "    titles_embeddings.append(embedding[0])\n",
    "\n",
    "df['embedding'] = titles_embeddings"
   ]
  },
  {
   "cell_type": "code",
   "execution_count": 10,
   "id": "dcb857a5-33d4-447f-aa43-501d3b67fe98",
   "metadata": {},
   "outputs": [],
   "source": [
    "df.to_pickle('..//data//interim//titles_with_embedings.pkl')"
   ]
  },
  {
   "cell_type": "markdown",
   "id": "530c4c4f-80d2-42b1-9c47-6dcafa0d928f",
   "metadata": {},
   "source": [
    "## Load data to Vector DB (chroma)"
   ]
  },
  {
   "cell_type": "code",
   "execution_count": null,
   "id": "2328c4e3",
   "metadata": {},
   "outputs": [],
   "source": [
    "import chromadb\n",
    "from chromadb.config import Settings"
   ]
  },
  {
   "cell_type": "code",
   "execution_count": 11,
   "id": "21fadb4e",
   "metadata": {},
   "outputs": [],
   "source": [
    "df = pd.read_pickle('..//data//interim//titles_with_embedings.pkl')"
   ]
  },
  {
   "cell_type": "code",
   "execution_count": 12,
   "id": "2cedaaa9-9650-4dec-bf3b-a88d3fc39169",
   "metadata": {},
   "outputs": [],
   "source": [
    "chroma_client = chromadb.PersistentClient(path=\"../data/chroma\")\n",
    "#chroma_client = chromadb.HttpClient(host=\"localhost\", port=8000, settings=Settings(allow_reset=True, anonymized_telemetry=False))\n",
    "\n",
    "collection_status = False\n",
    "while collection_status != True:\n",
    "    try:\n",
    "        document_collection = chroma_client.get_or_create_collection(name=\"articles_with_score\")\n",
    "        collection_status = True\n",
    "    except Exception as e:\n",
    "        print(e)\n",
    "        pass"
   ]
  },
  {
   "cell_type": "code",
   "execution_count": null,
   "id": "790d6c53-1b5c-4fc6-a10a-51cb8ce0216c",
   "metadata": {},
   "outputs": [
    {
     "name": "stderr",
     "output_type": "stream",
     "text": [
      "Batches: 100%|████████████████████████████████████████████████████████████████████| 171/171 [20:01<00:00,  7.03s/batch]\n"
     ]
    },
    {
     "name": "stdout",
     "output_type": "stream",
     "text": [
      "Size of the collection: 850406\n"
     ]
    }
   ],
   "source": [
    "batch_size = 5000\n",
    "last_confirmed_id = 0\n",
    "\n",
    "for batch_start in tqdm(range(0, df.shape[0], batch_size), desc='Batches', unit='batch'):\n",
    "    batch_df = df.iloc[batch_start:batch_start + batch_size]\n",
    "\n",
    "    batch_embeddings = batch_df['embedding'].apply(lambda x: x.tolist()).tolist()\n",
    "    batch_documents = batch_df['title'].tolist()\n",
    "    batch_metadatas = [{'year': row['year'], 'n_citation': row['n_citation'], 'gov_score': row['gov_score']} for index, row in batch_df.iterrows()]\n",
    "    batch_ids = [str(index + 1) for index in batch_df.index]\n",
    "    \n",
    "    document_collection.add(\n",
    "        embeddings=batch_embeddings,\n",
    "        documents=batch_documents,\n",
    "        metadatas=batch_metadatas,\n",
    "        ids=batch_ids\n",
    "    )\n",
    "\n",
    "    last_confirmed_id = batch_df.index[-1] + 1\n"
   ]
  },
  {
   "cell_type": "markdown",
   "id": "ac90d5b1-c9a3-43f5-b9be-4774eb004878",
   "metadata": {},
   "source": [
    "### Health check"
   ]
  },
  {
   "cell_type": "code",
   "execution_count": null,
   "id": "c9d8e239-390c-4015-ab00-9cbf17522636",
   "metadata": {},
   "outputs": [
    {
     "name": "stdout",
     "output_type": "stream",
     "text": [
      "Correct size of the articles collection: 850406\n"
     ]
    }
   ],
   "source": [
    "try:\n",
    "    collection_size = document_collection.count()\n",
    "    print(\"Size of the collection:\", collection_size)\n",
    "except Exception as e:\n",
    "    print(\"Failed to get collection size:\", e)\n",
    "\n",
    "if document_collection.count() == df.shape[0]:\n",
    "    print(\"Correct size of the articles collection:\", document_collection.count())\n",
    "else:\n",
    "    print(\"Data inconsistency detected!!!\")"
   ]
  }
 ],
 "metadata": {
  "kernelspec": {
   "display_name": "Python 3",
   "language": "python",
   "name": "python3"
  },
  "language_info": {
   "codemirror_mode": {
    "name": "ipython",
    "version": 3
   },
   "file_extension": ".py",
   "mimetype": "text/x-python",
   "name": "python",
   "nbconvert_exporter": "python",
   "pygments_lexer": "ipython3",
   "version": "3.11.4"
  }
 },
 "nbformat": 4,
 "nbformat_minor": 5
}
